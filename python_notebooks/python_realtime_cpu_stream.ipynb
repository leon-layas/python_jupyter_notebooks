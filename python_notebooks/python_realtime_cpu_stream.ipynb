{
 "cells": [
  {
   "cell_type": "code",
   "execution_count": null,
   "id": "159f2265",
   "metadata": {},
   "outputs": [],
   "source": [
    "import time\n",
    "import psutil\n",
    "import matplotlib.pyplot as plt\n"
   ]
  },
  {
   "cell_type": "code",
   "execution_count": null,
   "id": "9769a0f9",
   "metadata": {},
   "outputs": [],
   "source": [
    "%matplotlib notebook\n",
    "plt.rcParams['animation.html'] = 'jshtml'"
   ]
  },
  {
   "cell_type": "code",
   "execution_count": null,
   "id": "dfc5c7ab",
   "metadata": {},
   "outputs": [],
   "source": [
    "fig = plt.figure()\n",
    "ax = fig.add_subplot(111)\n",
    "\n",
    "fig.show"
   ]
  },
  {
   "cell_type": "code",
   "execution_count": null,
   "id": "d86564cd",
   "metadata": {},
   "outputs": [],
   "source": [
    "i = 0 \n",
    "\n",
    "x, y = [],[]\n",
    "\n",
    "while True:\n",
    "    x.append(i)\n",
    "    y.append(psutil.cpu_percent())\n",
    "    ax.plot(x, y, color = 'b')\n",
    "    fig.canvas.draw()\n",
    "    time.sleep(1)\n",
    "    i += 1\n"
   ]
  },
  {
   "cell_type": "code",
   "execution_count": null,
   "id": "9a4e1976",
   "metadata": {},
   "outputs": [],
   "source": []
  }
 ],
 "metadata": {
  "kernelspec": {
   "display_name": "Python 3 (ipykernel)",
   "language": "python",
   "name": "python3"
  },
  "language_info": {
   "codemirror_mode": {
    "name": "ipython",
    "version": 3
   },
   "file_extension": ".py",
   "mimetype": "text/x-python",
   "name": "python",
   "nbconvert_exporter": "python",
   "pygments_lexer": "ipython3",
   "version": "3.11.4"
  }
 },
 "nbformat": 4,
 "nbformat_minor": 5
}
