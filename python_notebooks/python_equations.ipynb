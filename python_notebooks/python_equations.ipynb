{
 "cells": [
  {
   "cell_type": "markdown",
   "id": "25cac184",
   "metadata": {},
   "source": [
    "$$\n",
    "  \\int_0^\\infty \\frac{x^3}{e^x-1}\\,dx = \\frac{\\pi^4}{15}\n",
    "$$"
   ]
  },
  {
   "cell_type": "markdown",
   "id": "f85bf4ea",
   "metadata": {},
   "source": [
    "\\begin{gather*}\n",
    "a_1=b_1+c_1\\\\\n",
    "a_2=b_2+c_2-d_2+e_2\n",
    "\\end{gather*}\n",
    "\n",
    "\\begin{align}\n",
    "a_{11}& =b_{11}&\n",
    "  a_{12}& =b_{12}\\\\\n",
    "a_{21}& =b_{21}&\n",
    "  a_{22}& =b_{22}+c_{22}\n",
    "\\end{align}"
   ]
  },
  {
   "cell_type": "markdown",
   "id": "4343fcac",
   "metadata": {},
   "source": [
    "markdown mode with m"
   ]
  },
  {
   "cell_type": "code",
   "execution_count": 1,
   "id": "9a85b5ae",
   "metadata": {},
   "outputs": [
    {
     "name": "stdout",
     "output_type": "stream",
     "text": [
      "hey!\n"
     ]
    }
   ],
   "source": [
    "print('hey!')"
   ]
  },
  {
   "cell_type": "code",
   "execution_count": null,
   "id": "a299c8f1",
   "metadata": {},
   "outputs": [],
   "source": []
  },
  {
   "cell_type": "code",
   "execution_count": null,
   "id": "86c94790",
   "metadata": {},
   "outputs": [],
   "source": []
  },
  {
   "cell_type": "code",
   "execution_count": null,
   "id": "a68468bd",
   "metadata": {},
   "outputs": [],
   "source": []
  },
  {
   "cell_type": "code",
   "execution_count": null,
   "id": "977ebfa8",
   "metadata": {},
   "outputs": [],
   "source": []
  },
  {
   "cell_type": "code",
   "execution_count": null,
   "id": "d7c2422b",
   "metadata": {},
   "outputs": [],
   "source": []
  },
  {
   "cell_type": "code",
   "execution_count": null,
   "id": "28452860",
   "metadata": {},
   "outputs": [],
   "source": []
  },
  {
   "cell_type": "code",
   "execution_count": null,
   "id": "ae30d242",
   "metadata": {},
   "outputs": [],
   "source": []
  },
  {
   "cell_type": "code",
   "execution_count": null,
   "id": "33bed55e",
   "metadata": {},
   "outputs": [],
   "source": []
  },
  {
   "cell_type": "code",
   "execution_count": null,
   "id": "9a88ea78",
   "metadata": {},
   "outputs": [],
   "source": []
  },
  {
   "cell_type": "code",
   "execution_count": null,
   "id": "559e2286",
   "metadata": {},
   "outputs": [],
   "source": []
  },
  {
   "cell_type": "code",
   "execution_count": null,
   "id": "c7339372",
   "metadata": {},
   "outputs": [],
   "source": []
  }
 ],
 "metadata": {
  "kernelspec": {
   "display_name": "Python 3 (ipykernel)",
   "language": "python",
   "name": "python3"
  },
  "language_info": {
   "codemirror_mode": {
    "name": "ipython",
    "version": 3
   },
   "file_extension": ".py",
   "mimetype": "text/x-python",
   "name": "python",
   "nbconvert_exporter": "python",
   "pygments_lexer": "ipython3",
   "version": "3.11.4"
  }
 },
 "nbformat": 4,
 "nbformat_minor": 5
}
